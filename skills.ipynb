{
 "cells": [
  {
   "cell_type": "raw",
   "id": "47dd28a8",
   "metadata": {},
   "source": [
    "---\n",
    "title: \"Samata Brahmane - My Skills\"\n",
    "format: \n",
    "  html:\n",
    "    code-fold: true\n",
    "jupyter: python3\n",
    "---"
   ]
  },
  {
   "cell_type": "markdown",
   "id": "80bd180e",
   "metadata": {},
   "source": [
    "### Skills\n",
    "\n",
    "- Predictive Analytics\n",
    "- Descriptive Analytics\n",
    "- Unsupervised Learning\n",
    "- Data Preprocessing\n",
    "- Feature Engineering\n",
    "- Data Visualization"
   ]
  },
  {
   "cell_type": "markdown",
   "id": "af8aef6e",
   "metadata": {},
   "source": [
    "### Tech Stack\n",
    "\n",
    "<img src=\"https://pandas.pydata.org/static/img/pandas.svg\" width=\"100\" > <img src=\"https://quintagroup.com/cms/python/images/scikit-learn-logo.png/@@images/4a0dce0a-be5d-4d11-a913-f53f9e5abf16.png\" width=\"100\" > <img src=\"https://matplotlib.org/stable/_images/sphx_glr_logos2_003.png\" width=\"100\" > <img src=\"https://seaborn.pydata.org/_images/logo-tall-lightbg.svg\" width=\"100\" > <img src=\"https://upload.wikimedia.org/wikipedia/commons/thumb/4/4b/Tableau_Logo.png/800px-Tableau_Logo.png?20181120160841\" width=\"100\" > <img src=\"https://encrypted-tbn0.gstatic.com/images?q=tbn:ANd9GcQOgevuOshMC48T-coqH48sEcFt5IYJAyK2OizzqF3ZWdeqTKpt0DOPoORpIAP-E0k9Dwk&usqp=CAU\" width=\"100\" > <img src=\"https://upload.wikimedia.org/wikipedia/commons/thumb/3/38/Jupyter_logo.svg/207px-Jupyter_logo.svg.png\" width=\"100\" > <img src=\"https://git-scm.com/images/logos/downloads/Git-Logo-2Color.svg\" width=\"100\" > <img src=\"https://upload.wikimedia.org/wikipedia/commons/thumb/9/9a/Visual_Studio_Code_1.35_icon.svg/512px-Visual_Studio_Code_1.35_icon.svg.png?20210804221519\" width=\"100\" > <img src=\"https://streamlit.io/images/brand/streamlit-logo-primary-colormark-darktext.png\" width=\"100\" > <img src=\"https://upload.wikimedia.org/wikiversity/en/8/8c/FastAPI_logo.png\" width=\"100\" >"
   ]
  },
  {
   "cell_type": "markdown",
   "id": "3f7876f8",
   "metadata": {},
   "source": [
    "### Tools\n",
    "\n",
    "| Field             | Tools  |\n",
    "|-------------------|--------|\n",
    "| Working with Data | Pandas |\n",
    "| Machine Learning  | Scikit-Learn |\n",
    "| Visualization | Matplotlib, Seaborn, Tableau |\n",
    "| Coding Tools | Conda, Jupyter, Git, Bash, VS Code |\n",
    "| Deployment | Streamlit, FastAPI |\n",
    "| Frontend | CSS, node.js, html |\n",
    "| Languages | Python, C++, Java, Javascript"
   ]
  }
 ],
 "metadata": {
  "kernelspec": {
   "display_name": "Python 3 (ipykernel)",
   "language": "python",
   "name": "python3"
  },
  "language_info": {
   "codemirror_mode": {
    "name": "ipython",
    "version": 3
   },
   "file_extension": ".py",
   "mimetype": "text/x-python",
   "name": "python",
   "nbconvert_exporter": "python",
   "pygments_lexer": "ipython3",
   "version": "3.9.12"
  }
 },
 "nbformat": 4,
 "nbformat_minor": 5
}
