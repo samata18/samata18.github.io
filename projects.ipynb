{
 "cells": [
  {
   "cell_type": "raw",
   "id": "47dd28a8",
   "metadata": {},
   "source": [
    "---\n",
    "title: \"Samata Brahmane - My Projects\"\n",
    "format: \n",
    "  html:\n",
    "    code-fold: true\n",
    "jupyter: python3\n",
    "---"
   ]
  },
  {
   "cell_type": "markdown",
   "id": "30b0bd73",
   "metadata": {},
   "source": [
    "### Links\n",
    "\n",
    "All my projects are available in my github profile:\n",
    "\n",
    "\n",
    "<a href=\"https://github.com/samata18\">\n",
    "         <img alt=\"Qries\" src=\"github.svg\"\n",
    "         width=100\" height=\"40\">\n",
    "                               </a>"
   ]
  },
  {
   "cell_type": "markdown",
   "id": "6a639662",
   "metadata": {},
   "source": [
    "#### Brain Stroke Prediction\n",
    "- Built a machine learning model to predict whether a person is likely to suffer brain stroke or not, based on open source data with demographic and medical features.\n",
    "- Performed in-depth EDA to understand the distribution of the features in the dataset.\n",
    "- Carried out data processing techniques like variable encoding, imputation, feature scaling to prepare data for machine learning algorithm.\n",
    "- Used a gradient-boosting algorithm to train a model that yielded an F1 score of 99%\n",
    "- Deployed this model as an [interactive streamlit app](shorturl.at/abAEO)"
   ]
  },
  {
   "cell_type": "markdown",
   "id": "f955ed4c",
   "metadata": {},
   "source": [
    "#### OCR Android App for Prescriptions (Graduation Project)\n",
    "\n",
    "- Built an android app to extract details of a medicine and give audio output about the name and time for the medicine.\n",
    "- Used image processing techniques like custom grayscaling, canny edge detection, segmentation and OCR.\n",
    "- Matched the extracted text with a database backend to retrieve details for a medicine, including the dosage and timing, and converted text to speech to be the output.\n",
    "- Performed in-depth requirement analysis, system design and analysis, risk management, as well as software testing for the project.\n",
    "- Tech stack: Java, Android Studio, SQLite"
   ]
  }
 ],
 "metadata": {
  "kernelspec": {
   "display_name": "Python 3 (ipykernel)",
   "language": "python",
   "name": "python3"
  },
  "language_info": {
   "codemirror_mode": {
    "name": "ipython",
    "version": 3
   },
   "file_extension": ".py",
   "mimetype": "text/x-python",
   "name": "python",
   "nbconvert_exporter": "python",
   "pygments_lexer": "ipython3",
   "version": "3.9.12"
  }
 },
 "nbformat": 4,
 "nbformat_minor": 5
}
