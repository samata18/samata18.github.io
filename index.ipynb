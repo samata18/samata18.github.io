{
 "cells": [
  {
   "cell_type": "raw",
   "id": "47dd28a8",
   "metadata": {},
   "source": [
    "---\n",
    "title: \"Samata Brahmane - Personal Site\"\n",
    "format: \n",
    "  html:\n",
    "    code-fold: true\n",
    "jupyter: python3\n",
    "---"
   ]
  },
  {
   "cell_type": "markdown",
   "id": "2af67a51",
   "metadata": {},
   "source": [
    "### Links\n",
    "\n",
    "<a href=\"https://github.com/samata18\">\n",
    "         <img alt=\"Qries\" src=\"github.svg\"\n",
    "         width=100\" height=\"40\">\n",
    "</a><a href=\"https://www.linkedin.com/in/samata-b-989a9b148/\">\n",
    "         <img alt=\"Qries\" src=\"linkedin.svg\"\n",
    "         width=100\" height=\"40\">\n",
    "</a><a href=\"https://samata18-brain-stroke-prediction-brain-stroke-deploy-394359.streamlitapp.com/\">\n",
    "         <img alt=\"Qries\" src=\"sliders.svg\"\n",
    "         width=100\" height=\"40\">\n",
    "</a>"
   ]
  },
  {
   "cell_type": "markdown",
   "id": "09710b80",
   "metadata": {},
   "source": [
    "### Introduction\n",
    "\n",
    "\n",
    "<div style=\"text-align: center;\">\n",
    "  <img class=\"circular_image\" src=\"photo.jpg\" alt=\"Sky\" >\n",
    "</div>\n",
    "\n",
    "Hi, I am an aspirational data scientist who wants to solve problems using AI.\n",
    "\n",
    "I have built machine learning projects on open source datasets, and am familiar with data processing techniques like variable encoding, feature scaling, imputation among others. I have used bagging and boosting based algorithms for predictive analytics. \n",
    "\n",
    "For model deployment, have implemented solutions in fastapi as well as streamlit. I am also proficient in clustering and SQL. My background as a CS graduate gives me theoretical grounding in topics like software design, database management which I’m confident would be helpful in my data science journey.\n",
    "\n",
    "I also believe I have problem solving skills to penetrate through business requirements and understand where I can add value as a data scientist and the technical skills to implement solutions. I am a storyteller at heart, and can tell stories using data. I understand that data science is a highly collaborative field, and working with teams is something I cherish. I have the communication skills to ingest domain knowledge and present analytical results to stakeholders."
   ]
  }
 ],
 "metadata": {
  "kernelspec": {
   "display_name": "Python 3 (ipykernel)",
   "language": "python",
   "name": "python3"
  },
  "language_info": {
   "codemirror_mode": {
    "name": "ipython",
    "version": 3
   },
   "file_extension": ".py",
   "mimetype": "text/x-python",
   "name": "python",
   "nbconvert_exporter": "python",
   "pygments_lexer": "ipython3",
   "version": "3.9.12"
  }
 },
 "nbformat": 4,
 "nbformat_minor": 5
}
